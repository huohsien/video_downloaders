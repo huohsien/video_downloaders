{
 "cells": [
  {
   "cell_type": "code",
   "execution_count": 1,
   "source": [
    "import requests\n",
    "from lxml import html\n",
    "from urllib.request import urlopen, Request\n",
    "\n",
    "from selenium.webdriver.common.by import By\n",
    "from selenium import webdriver\n",
    "\n",
    "from selenium.webdriver.common.keys import Keys\n",
    "# from webdriver_manager.chrome import ChromeDriverManager\n",
    "from bs4 import BeautifulSoup\n",
    "import re\n",
    "import pandas as pd\n",
    "import os\n",
    "import time\n",
    "from datetime import datetime\n",
    "import threading\n",
    "from datetime import date\n",
    "from apscheduler.schedulers.background import BackgroundScheduler"
   ],
   "outputs": [],
   "metadata": {}
  },
  {
   "cell_type": "code",
   "execution_count": 2,
   "source": [
    "num_episodes = 12\n",
    "\n",
    "# create a new Firefox session\n",
    "browser = webdriver.Safari()\n",
    "browser.implicitly_wait(30)\n",
    "\n",
    "for i in range(1,num_episodes+1):\n",
    "    # https://www.100vdo.com/vod-play-id-239826-sid-4-pid-1.html\n",
    "    episode_link = \"https://www.100vdo.com/vod-play-id-239826-sid-4-pid-{}.html\".format(i)\n",
    "    browser.get(episode_link)\n",
    "    element = browser.find_element_by_xpath(\"//div[@class='player embed-responsive embed-responsive-4by3']/iframe\")\n",
    "\n",
    "#     element.get_attribute('src')\n",
    "    video_link = element.get_attribute('src')\n",
    "    \n",
    "    # https://api.17365i.com/Aliplayer/Aliplayer.html?videourl=https://cdn.605-zy.com/20210502/U0v5aXNx/index.m3u8\n",
    "    prefix_str ='https://api.17365i.com/Aliplayer/Aliplayer.html?videourl='\n",
    "    \n",
    "    if video_link.startswith(prefix_str):\n",
    "        video_link = video_link[len(prefix_str):]\n",
    "        print(\"video_link = \", video_link)\n",
    "    video_file = \"華麗一族-{:02d}.mp4\".format(i)\n",
    "    print(\"video_file= \" + video_file)\n",
    "    ffmpeg_cmd_str = \"ffmpeg -user_agent \\\n",
    "                    \\\"Mozilla/5.0 \\(Macintosh; Intel Mac OS X 10_9_5) \\\n",
    "                    AppleWebKit/601.7.8 (KHTML, like Gecko) \\\n",
    "                    Version/9.1.3 Safari/537.86.7\\\" \\\n",
    "                    -i {} -c copy \\'{}\\'\".format(video_link, video_file)\n",
    "\n",
    "    os.system(ffmpeg_cmd_str)"
   ],
   "outputs": [
    {
     "output_type": "stream",
     "name": "stdout",
     "text": [
      "video_link =  https://cdn.605-zy.com/20210502/U0v5aXNx/index.m3u8\n",
      "video_file= 華麗一族-01.mp4\n",
      "video_link =  https://cdn.605-zy.com/20210502/LuQ0c8pw/index.m3u8\n",
      "video_file= 華麗一族-02.mp4\n",
      "video_link =  https://cdn.605-zy.com/20210502/X2iSldzf/index.m3u8\n",
      "video_file= 華麗一族-03.mp4\n",
      "video_link =  https://cdn.605-zy.com/20210511/vX5tOEOf/index.m3u8\n",
      "video_file= 華麗一族-04.mp4\n",
      "video_link =  https://cdn.605-zy.com/20210516/5Kg5BfE2/index.m3u8\n",
      "video_file= 華麗一族-05.mp4\n",
      "video_link =  https://cdn.605-zy.com/20210528/0CQijevJ/index.m3u8\n",
      "video_file= 華麗一族-06.mp4\n",
      "video_link =  https://cdn.605-zy.com/20210531/yaeQfOuU/index.m3u8\n",
      "video_file= 華麗一族-07.mp4\n",
      "video_link =  https://cdn.605-zy.com/20210610/17rX9mKx/index.m3u8\n",
      "video_file= 華麗一族-08.mp4\n",
      "video_link =  https://cdn.605-zy.com/20210701/URBOL5jW/index.m3u8\n",
      "video_file= 華麗一族-09.mp4\n",
      "video_link =  https://cdn.605-zy.com/20210701/JMcS6D5c/index.m3u8\n",
      "video_file= 華麗一族-10.mp4\n",
      "video_link =  https://cdn.605-zy.com/20210714/XKceXd1i/index.m3u8\n",
      "video_file= 華麗一族-11.mp4\n",
      "video_link =  https://cdn.605-zy.com/20210712/RCjwFZ3L/index.m3u8\n",
      "video_file= 華麗一族-12.mp4\n"
     ]
    }
   ],
   "metadata": {}
  }
 ],
 "metadata": {
  "orig_nbformat": 4,
  "language_info": {
   "name": "python",
   "version": "3.7.1",
   "mimetype": "text/x-python",
   "codemirror_mode": {
    "name": "ipython",
    "version": 3
   },
   "pygments_lexer": "ipython3",
   "nbconvert_exporter": "python",
   "file_extension": ".py"
  },
  "kernelspec": {
   "name": "python3",
   "display_name": "Python 3.7.1 64-bit ('web': conda)"
  },
  "interpreter": {
   "hash": "effc0f63518a5c1560b10975c45bbcceadc577c0194c86222f219f68a81157cb"
  }
 },
 "nbformat": 4,
 "nbformat_minor": 2
}