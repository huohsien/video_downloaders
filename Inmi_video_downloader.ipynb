{
 "cells": [
  {
   "cell_type": "code",
   "execution_count": 1,
   "metadata": {},
   "outputs": [],
   "source": [
    "import requests\n",
    "from lxml import html\n",
    "from urllib.request import urlopen, Request\n",
    "\n",
    "from selenium import webdriver\n",
    "from selenium.webdriver.common.keys import Keys\n",
    "from webdriver_manager.chrome import ChromeDriverManager\n",
    "from selenium.webdriver.chrome.options import Options\n",
    "from selenium.webdriver.support.ui import WebDriverWait\n",
    "from selenium.webdriver.support import expected_conditions as EC\n",
    "from selenium.webdriver.common.by import By\n",
    "from selenium.common.exceptions import TimeoutException\n",
    "\n",
    "from bs4 import BeautifulSoup\n",
    "import re\n",
    "import pandas as pd\n",
    "import os\n",
    "import time\n",
    "from datetime import datetime\n",
    "import threading\n",
    "from datetime import date\n",
    "from apscheduler.schedulers.background import BackgroundScheduler"
   ]
  },
  {
   "cell_type": "code",
   "execution_count": 2,
   "metadata": {},
   "outputs": [],
   "source": [
    "num_episodes = 45\n",
    "ep_link_pattern = \"https://www.inmi.tv/vod/play/id/99939/sid/1/nid/{}.html\"\n",
    "name_of_show = \"天龍八部(97版)\"\n",
    "xpath_m3u8_link = \"//iframe[@class='fed-play-iframe fed-part-full']\"\n",
    "video_link_prefix = \"https://zuidajiexi.net/m3u8.html?url=\"\n",
    "path_to_extension = \"~/Library/Application Support/Google/Chrome/Default/Extensions/epcnnfbjfcgphgdmggkamkmgojdagdnn//0.9.5.25_0\""
   ]
  },
  {
   "cell_type": "code",
   "execution_count": 3,
   "metadata": {},
   "outputs": [],
   "source": [
    "chrome_options = Options()\n",
    "chrome_options.add_argument(\"user-data-dir=/Users/huohsien/Library/Application Support/Google/Chrome/Default/\")"
   ]
  },
  {
   "cell_type": "code",
   "execution_count": 4,
   "metadata": {},
   "outputs": [
    {
     "name": "stderr",
     "output_type": "stream",
     "text": [
      "[WDM] - Current google-chrome version is 83.0.4103\n",
      "[WDM] - Get LATEST driver version for 83.0.4103\n",
      "[WDM] - Driver [/Users/huohsien/.wdm/drivers/chromedriver/mac64/83.0.4103.39/chromedriver] found in cache\n"
     ]
    },
    {
     "name": "stdout",
     "output_type": "stream",
     "text": [
      " \n"
     ]
    }
   ],
   "source": [
    "# create a new Chrome session\n",
    "\n",
    "browser = webdriver.Chrome(ChromeDriverManager().install(), options=chrome_options)\n",
    "browser.implicitly_wait(60)"
   ]
  },
  {
   "cell_type": "code",
   "execution_count": 5,
   "metadata": {},
   "outputs": [
    {
     "name": "stdout",
     "output_type": "stream",
     "text": [
      "browser get: episode_link=  https://www.inmi.tv/vod/play/id/99939/sid/1/nid/40.html\n",
      "xpath find: element= <selenium.webdriver.remote.webelement.WebElement (session=\"74c2b5b77f33058ab5a7d6f123cac16e\", element=\"a3883fff-c676-4ba2-8d1e-4bea66b83e7c\")>\n",
      "video_link= https://zuidajiexi.net/m3u8.html?url=https://youku.mhyunbo.com/20191204/gVQY0EZH/index.m3u8\n",
      "video_file= 天龍八部(97版)-40.mp4\n",
      "ffmpeg_cmd_str=  ffmpeg -user_agent                     \"Mozilla/5.0 \\(Macintosh; Intel Mac OS X 10_9_5)                     AppleWebKit/601.7.8 (KHTML, like Gecko)                     Version/9.1.3 Safari/537.86.7\"                     -i https://youku.mhyunbo.com/20191204/gVQY0EZH/index.m3u8 -c copy '天龍八部(97版)-40.mp4'\n",
      "browser get: episode_link=  https://www.inmi.tv/vod/play/id/99939/sid/1/nid/41.html\n",
      "xpath find: element= <selenium.webdriver.remote.webelement.WebElement (session=\"74c2b5b77f33058ab5a7d6f123cac16e\", element=\"f97d0e22-0670-4f80-b15c-99efe5147999\")>\n",
      "video_link= https://zuidajiexi.net/m3u8.html?url=https://youku.mhyunbo.com/20191204/Jk7S1J2z/index.m3u8\n",
      "video_file= 天龍八部(97版)-41.mp4\n",
      "ffmpeg_cmd_str=  ffmpeg -user_agent                     \"Mozilla/5.0 \\(Macintosh; Intel Mac OS X 10_9_5)                     AppleWebKit/601.7.8 (KHTML, like Gecko)                     Version/9.1.3 Safari/537.86.7\"                     -i https://youku.mhyunbo.com/20191204/Jk7S1J2z/index.m3u8 -c copy '天龍八部(97版)-41.mp4'\n",
      "browser get: episode_link=  https://www.inmi.tv/vod/play/id/99939/sid/1/nid/42.html\n",
      "xpath find: element= <selenium.webdriver.remote.webelement.WebElement (session=\"74c2b5b77f33058ab5a7d6f123cac16e\", element=\"bd89b3f8-edab-4d8c-89f8-5de80ed0b8ab\")>\n",
      "video_link= https://zuidajiexi.net/m3u8.html?url=https://youku.mhyunbo.com/20191204/r6KDmhzs/index.m3u8\n",
      "video_file= 天龍八部(97版)-42.mp4\n",
      "ffmpeg_cmd_str=  ffmpeg -user_agent                     \"Mozilla/5.0 \\(Macintosh; Intel Mac OS X 10_9_5)                     AppleWebKit/601.7.8 (KHTML, like Gecko)                     Version/9.1.3 Safari/537.86.7\"                     -i https://youku.mhyunbo.com/20191204/r6KDmhzs/index.m3u8 -c copy '天龍八部(97版)-42.mp4'\n",
      "browser get: episode_link=  https://www.inmi.tv/vod/play/id/99939/sid/1/nid/43.html\n",
      "xpath find: element= <selenium.webdriver.remote.webelement.WebElement (session=\"74c2b5b77f33058ab5a7d6f123cac16e\", element=\"1e22be0e-8f2d-4352-a505-504e51b84621\")>\n",
      "video_link= https://zuidajiexi.net/m3u8.html?url=https://youku.mhyunbo.com/20191204/PqLv9bKz/index.m3u8\n",
      "video_file= 天龍八部(97版)-43.mp4\n",
      "ffmpeg_cmd_str=  ffmpeg -user_agent                     \"Mozilla/5.0 \\(Macintosh; Intel Mac OS X 10_9_5)                     AppleWebKit/601.7.8 (KHTML, like Gecko)                     Version/9.1.3 Safari/537.86.7\"                     -i https://youku.mhyunbo.com/20191204/PqLv9bKz/index.m3u8 -c copy '天龍八部(97版)-43.mp4'\n",
      "browser get: episode_link=  https://www.inmi.tv/vod/play/id/99939/sid/1/nid/44.html\n",
      "xpath find: element= <selenium.webdriver.remote.webelement.WebElement (session=\"74c2b5b77f33058ab5a7d6f123cac16e\", element=\"dc11ed37-9e8e-4495-8479-e5c8fccbb65e\")>\n",
      "video_link= https://zuidajiexi.net/m3u8.html?url=https://youku.mhyunbo.com/20191204/JT0xxW5p/index.m3u8\n",
      "video_file= 天龍八部(97版)-44.mp4\n",
      "ffmpeg_cmd_str=  ffmpeg -user_agent                     \"Mozilla/5.0 \\(Macintosh; Intel Mac OS X 10_9_5)                     AppleWebKit/601.7.8 (KHTML, like Gecko)                     Version/9.1.3 Safari/537.86.7\"                     -i https://youku.mhyunbo.com/20191204/JT0xxW5p/index.m3u8 -c copy '天龍八部(97版)-44.mp4'\n",
      "browser get: episode_link=  https://www.inmi.tv/vod/play/id/99939/sid/1/nid/45.html\n",
      "xpath find: element= <selenium.webdriver.remote.webelement.WebElement (session=\"74c2b5b77f33058ab5a7d6f123cac16e\", element=\"975350a4-14ca-481e-8730-8da7bccb928d\")>\n",
      "video_link= https://zuidajiexi.net/m3u8.html?url=https://youku.mhyunbo.com/20191204/znkLfQyp/index.m3u8\n",
      "video_file= 天龍八部(97版)-45.mp4\n",
      "ffmpeg_cmd_str=  ffmpeg -user_agent                     \"Mozilla/5.0 \\(Macintosh; Intel Mac OS X 10_9_5)                     AppleWebKit/601.7.8 (KHTML, like Gecko)                     Version/9.1.3 Safari/537.86.7\"                     -i https://youku.mhyunbo.com/20191204/znkLfQyp/index.m3u8 -c copy '天龍八部(97版)-45.mp4'\n"
     ]
    }
   ],
   "source": [
    "for i in range(40,num_episodes+1):\n",
    "    episode_link = ep_link_pattern.format(i)\n",
    "    browser.get(episode_link)\n",
    "    print(\"browser get: episode_link= \", episode_link)\n",
    "\n",
    "    time.sleep(2)\n",
    "    \n",
    "    element = browser.find_element_by_xpath(xpath_m3u8_link)\n",
    "    print(\"xpath find: element= {}\".format(element))\n",
    "    \n",
    "    time.sleep(2)\n",
    "    video_link = element.get_attribute('src')\n",
    "    print(\"video_link= \" + video_link)\n",
    "    \n",
    "    if video_link.startswith(video_link_prefix):\n",
    "        video_link = video_link[len(video_link_prefix):]\n",
    "    \n",
    "    video_file = \"{}-{:02d}.mp4\".format(name_of_show, i)\n",
    "    print(\"video_file= \" + video_file)\n",
    "    ffmpeg_cmd_str = \"ffmpeg -user_agent \\\n",
    "                    \\\"Mozilla/5.0 \\(Macintosh; Intel Mac OS X 10_9_5) \\\n",
    "                    AppleWebKit/601.7.8 (KHTML, like Gecko) \\\n",
    "                    Version/9.1.3 Safari/537.86.7\\\" \\\n",
    "                    -i {} -c copy \\'{}\\'\".format(video_link, video_file)\n",
    "    print(\"ffmpeg_cmd_str= \", ffmpeg_cmd_str)\n",
    "    os.system(ffmpeg_cmd_str)"
   ]
  },
  {
   "cell_type": "code",
   "execution_count": 6,
   "metadata": {},
   "outputs": [
    {
     "data": {
      "text/plain": [
       "'ffmpeg -user_agent                     \"Mozilla/5.0 \\\\(Macintosh; Intel Mac OS X 10_9_5)                     AppleWebKit/601.7.8 (KHTML, like Gecko)                     Version/9.1.3 Safari/537.86.7\"                     -i https://mojing.huoyanzuida.com/20200524/5754_0b871c07/index.m3u8 -c copy \\'test.mp4\\''"
      ]
     },
     "execution_count": 6,
     "metadata": {},
     "output_type": "execute_result"
    }
   ],
   "source": [
    "\"ffmpeg -user_agent \\\n",
    "                    \\\"Mozilla/5.0 \\(Macintosh; Intel Mac OS X 10_9_5) \\\n",
    "                    AppleWebKit/601.7.8 (KHTML, like Gecko) \\\n",
    "                    Version/9.1.3 Safari/537.86.7\\\" \\\n",
    "                    -i {} -c copy \\'{}\\'\".format(\"https://mojing.huoyanzuida.com/20200524/5754_0b871c07/index.m3u8\", \"test.mp4\")"
   ]
  }
 ],
 "metadata": {
  "kernelspec": {
   "display_name": "Python 3",
   "language": "python",
   "name": "python3"
  },
  "language_info": {
   "codemirror_mode": {
    "name": "ipython",
    "version": 3
   },
   "file_extension": ".py",
   "mimetype": "text/x-python",
   "name": "python",
   "nbconvert_exporter": "python",
   "pygments_lexer": "ipython3",
   "version": "3.7.1"
  }
 },
 "nbformat": 4,
 "nbformat_minor": 2
}
