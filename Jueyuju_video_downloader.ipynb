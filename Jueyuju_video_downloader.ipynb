{
 "cells": [
  {
   "cell_type": "code",
   "execution_count": 1,
   "metadata": {},
   "outputs": [],
   "source": [
    "import requests\n",
    "from lxml import html\n",
    "from urllib.request import urlopen, Request\n",
    "\n",
    "from selenium.webdriver.common.by import By\n",
    "from selenium import webdriver\n",
    "\n",
    "from selenium.webdriver.common.keys import Keys\n",
    "# from webdriver_manager.chrome import ChromeDriverManager\n",
    "from bs4 import BeautifulSoup\n",
    "import re\n",
    "import pandas as pd\n",
    "import os\n",
    "import time\n",
    "from datetime import datetime\n",
    "import threading\n",
    "from datetime import date\n",
    "from apscheduler.schedulers.background import BackgroundScheduler"
   ]
  },
  {
   "cell_type": "code",
   "execution_count": 2,
   "metadata": {},
   "outputs": [],
   "source": [
    "num_episodes = 25\n",
    "ep_link_pattern = \"http://www.yueyuju.com/tvb/YiTianTuLongJi78Ban/m3u8-1-{}.html\"\n",
    "name_of_show = \"倚天屠龙记(78版)\"\n",
    "xpath_m3nu_link = \"//div[@class='p-vbox']//iframe\"\n",
    "video_link_prefix = \"http://dpplay.zuidajiexi.com/?url=\""
   ]
  },
  {
   "cell_type": "code",
   "execution_count": 3,
   "metadata": {},
   "outputs": [],
   "source": [
    "# create a new Safari session\n",
    "browser = webdriver.Safari()\n",
    "browser.implicitly_wait(30)"
   ]
  },
  {
   "cell_type": "code",
   "execution_count": null,
   "metadata": {},
   "outputs": [
    {
     "name": "stdout",
     "output_type": "stream",
     "text": [
      "video_link= http://dpplay.zuidajiexi.com/?url=https://mojing.huoyanzuida.com/20200524/5754_0b871c07/index.m3u8\n",
      "video_file= 倚天屠龙记(78版)-01.mp4\n"
     ]
    }
   ],
   "source": [
    "for i in range(1,num_episodes+1):\n",
    "    episode_link = ep_link_pattern.format(i)\n",
    "    browser.get(episode_link)\n",
    "    \n",
    "    element = browser.find_element_by_xpath(xpath_m3nu_link)\n",
    "        \n",
    "    video_link = element.get_attribute('src')\n",
    "    print(\"video_link= \" + video_link)\n",
    "    if video_link.startswith(video_link_prefix):\n",
    "        video_link = video_link[len(video_link_prefix):]\n",
    "    \n",
    "    video_file = \"{}-{:02d}.mp4\".format(name_of_show, i)\n",
    "    print(\"video_file= \" + video_file)\n",
    "    ffmpeg_cmd_str = \"ffmpeg -user_agent \\\n",
    "                    \\\"Mozilla/5.0 \\(Macintosh; Intel Mac OS X 10_9_5) \\\n",
    "                    AppleWebKit/601.7.8 (KHTML, like Gecko) \\\n",
    "                    Version/9.1.3 Safari/537.86.7\\\" \\\n",
    "                    -i {} -c copy \\'{}\\'\".format(video_link, video_file)\n",
    "\n",
    "    os.system(ffmpeg_cmd_str)"
   ]
  },
  {
   "cell_type": "code",
   "execution_count": null,
   "metadata": {},
   "outputs": [],
   "source": [
    "\"ffmpeg -user_agent \\\n",
    "                    \\\"Mozilla/5.0 \\(Macintosh; Intel Mac OS X 10_9_5) \\\n",
    "                    AppleWebKit/601.7.8 (KHTML, like Gecko) \\\n",
    "                    Version/9.1.3 Safari/537.86.7\\\" \\\n",
    "                    -i {} -c copy \\'{}\\'\".format(\"https://mojing.huoyanzuida.com/20200524/5754_0b871c07/index.m3u8\", \"test.mp4\")"
   ]
  }
 ],
 "metadata": {
  "kernelspec": {
   "display_name": "Python 3",
   "language": "python",
   "name": "python3"
  },
  "language_info": {
   "codemirror_mode": {
    "name": "ipython",
    "version": 3
   },
   "file_extension": ".py",
   "mimetype": "text/x-python",
   "name": "python",
   "nbconvert_exporter": "python",
   "pygments_lexer": "ipython3",
   "version": "3.7.1"
  }
 },
 "nbformat": 4,
 "nbformat_minor": 2
}
