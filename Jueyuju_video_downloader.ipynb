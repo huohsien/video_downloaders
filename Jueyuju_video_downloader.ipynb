{
 "cells": [
  {
   "cell_type": "code",
   "execution_count": 1,
   "metadata": {},
   "outputs": [],
   "source": [
    "import requests\n",
    "from lxml import html\n",
    "from urllib.request import urlopen, Request\n",
    "\n",
    "from selenium.webdriver.common.by import By\n",
    "from selenium import webdriver\n",
    "\n",
    "from selenium.webdriver.common.keys import Keys\n",
    "# from webdriver_manager.chrome import ChromeDriverManager\n",
    "from bs4 import BeautifulSoup\n",
    "import re\n",
    "import pandas as pd\n",
    "import os\n",
    "import time\n",
    "from datetime import datetime\n",
    "import threading\n",
    "from datetime import date\n",
    "from apscheduler.schedulers.background import BackgroundScheduler"
   ]
  },
  {
   "cell_type": "code",
   "execution_count": 2,
   "metadata": {},
   "outputs": [],
   "source": [
    "num_episodes = 42\n",
    "ep_link_pattern = \"https://www.yueyuju.com/tvb/TianLongBaBu/m3u8-1-{}.html\"\n",
    "name_of_show = \"倚天屠龙记(97版)\"\n",
    "xpath_m3nu_link = \"//div[@class='p-vbox']//iframe\"\n",
    "video_link_prefix = \"http://dpplay.zuidajiexi.com/?url=\""
   ]
  },
  {
   "cell_type": "code",
   "execution_count": 3,
   "metadata": {},
   "outputs": [],
   "source": [
    "# create a new Safari session\n",
    "browser = webdriver.Safari()\n",
    "browser.implicitly_wait(30)"
   ]
  },
  {
   "cell_type": "code",
   "execution_count": 4,
   "metadata": {},
   "outputs": [
    {
     "name": "stdout",
     "output_type": "stream",
     "text": [
      "video_link= https://dpplay.zuidajiexi.com/?url=https://mojing.huoyanzuida.com/share/5e98d23afe19a774d1b2dcbefd5103eb\n",
      "video_file= 倚天屠龙记(97版)-01.mp4\n",
      "video_link= https://dpplay.zuidajiexi.com/?url=https://mojing.huoyanzuida.com/share/f5e536083a438cec5b64a4954abc17f1\n",
      "video_file= 倚天屠龙记(97版)-02.mp4\n",
      "video_link= https://dpplay.zuidajiexi.com/?url=https://mojing.huoyanzuida.com/share/2e5ac40b5a02c5a2c35fe028a266aa91\n",
      "video_file= 倚天屠龙记(97版)-03.mp4\n",
      "video_link= https://dpplay.zuidajiexi.com/?url=https://mojing.huoyanzuida.com/share/e074a2975740cdf3948cfc063892260e\n",
      "video_file= 倚天屠龙记(97版)-04.mp4\n",
      "video_link= https://dpplay.zuidajiexi.com/?url=https://mojing.huoyanzuida.com/share/06a9d51e04213572ef0720dd27a84792\n",
      "video_file= 倚天屠龙记(97版)-05.mp4\n",
      "video_link= https://dpplay.zuidajiexi.com/?url=https://mojing.huoyanzuida.com/share/ad185a320a9c8af2e25d53ef7cbacd4f\n",
      "video_file= 倚天屠龙记(97版)-06.mp4\n",
      "video_link= https://dpplay.zuidajiexi.com/?url=https://mojing.huoyanzuida.com/share/8471bda5e6201d30893c3582ee131d4d\n",
      "video_file= 倚天屠龙记(97版)-07.mp4\n",
      "video_link= https://dpplay.zuidajiexi.com/?url=https://mojing.huoyanzuida.com/share/9c805dcddc7db4e825949f20601fc73b\n",
      "video_file= 倚天屠龙记(97版)-08.mp4\n",
      "video_link= https://dpplay.zuidajiexi.com/?url=https://mojing.huoyanzuida.com/share/21e60123a3a0df92f391f66b1e51903a\n",
      "video_file= 倚天屠龙记(97版)-09.mp4\n",
      "video_link= https://dpplay.zuidajiexi.com/?url=https://mojing.huoyanzuida.com/share/1fb333bc34b8d1f1d1d434f90869367a\n",
      "video_file= 倚天屠龙记(97版)-10.mp4\n",
      "video_link= https://dpplay.zuidajiexi.com/?url=https://mojing.huoyanzuida.com/share/dbb240d23ce3d732b67bcfbae5956b18\n",
      "video_file= 倚天屠龙记(97版)-11.mp4\n",
      "video_link= https://dpplay.zuidajiexi.com/?url=https://mojing.huoyanzuida.com/share/a6292668b36ef412fa3c4102d1311a62\n",
      "video_file= 倚天屠龙记(97版)-12.mp4\n",
      "video_link= https://dpplay.zuidajiexi.com/?url=https://mojing.huoyanzuida.com/share/a322852ce0df73e204b7e67cbbef0d0a\n",
      "video_file= 倚天屠龙记(97版)-13.mp4\n",
      "video_link= https://dpplay.zuidajiexi.com/?url=https://mojing.huoyanzuida.com/share/5faf461eff3099671ad63c6f3f094f7f\n",
      "video_file= 倚天屠龙记(97版)-14.mp4\n",
      "video_link= https://dpplay.zuidajiexi.com/?url=https://mojing.huoyanzuida.com/share/da87cbc1b5b8501acf3b49eec1cc52c3\n",
      "video_file= 倚天屠龙记(97版)-15.mp4\n",
      "video_link= https://dpplay.zuidajiexi.com/?url=https://mojing.huoyanzuida.com/share/b0ba5c44aaf65f6ca34cf116e6d82ebf\n",
      "video_file= 倚天屠龙记(97版)-16.mp4\n",
      "video_link= https://dpplay.zuidajiexi.com/?url=https://mojing.huoyanzuida.com/share/6194a1ee187acd6606989f03769e8f7f\n",
      "video_file= 倚天屠龙记(97版)-17.mp4\n",
      "video_link= https://dpplay.zuidajiexi.com/?url=https://mojing.huoyanzuida.com/share/5c3a3b139a11689e0bc55abd95e20e39\n",
      "video_file= 倚天屠龙记(97版)-18.mp4\n",
      "video_link= https://dpplay.zuidajiexi.com/?url=https://mojing.huoyanzuida.com/share/84b64e537f08e81b8dea8cce972a28b2\n",
      "video_file= 倚天屠龙记(97版)-19.mp4\n",
      "video_link= https://dpplay.zuidajiexi.com/?url=https://mojing.huoyanzuida.com/share/2adcfc3929e7c03fac3100d3ad51da26\n",
      "video_file= 倚天屠龙记(97版)-20.mp4\n",
      "video_link= https://dpplay.zuidajiexi.com/?url=https://mojing.huoyanzuida.com/share/92b70a527191ca64ca2df1cc32142646\n",
      "video_file= 倚天屠龙记(97版)-21.mp4\n",
      "video_link= https://dpplay.zuidajiexi.com/?url=https://mojing.huoyanzuida.com/share/83a100ec3c2c30751156cea2d60aacbe\n",
      "video_file= 倚天屠龙记(97版)-22.mp4\n",
      "video_link= https://dpplay.zuidajiexi.com/?url=https://mojing.huoyanzuida.com/share/937936029af671cf479fa893db91cbdd\n",
      "video_file= 倚天屠龙记(97版)-23.mp4\n",
      "video_link= https://dpplay.zuidajiexi.com/?url=https://mojing.huoyanzuida.com/share/da0dba87d95286d836e37ca60ab1e734\n",
      "video_file= 倚天屠龙记(97版)-24.mp4\n",
      "video_link= https://dpplay.zuidajiexi.com/?url=https://mojing.huoyanzuida.com/share/8383f931b0cefcc631f070480ef340e1\n",
      "video_file= 倚天屠龙记(97版)-25.mp4\n",
      "video_link= https://dpplay.zuidajiexi.com/?url=https://mojing.huoyanzuida.com/share/f845cbb24a82dabdee971c6f7719f89d\n",
      "video_file= 倚天屠龙记(97版)-26.mp4\n",
      "video_link= https://dpplay.zuidajiexi.com/?url=https://mojing.huoyanzuida.com/share/e2459ae2cf7921589685a6835ec08a7c\n",
      "video_file= 倚天屠龙记(97版)-27.mp4\n",
      "video_link= https://dpplay.zuidajiexi.com/?url=https://mojing.huoyanzuida.com/share/271f17707d8bfd2cd45f7e5182298703\n",
      "video_file= 倚天屠龙记(97版)-28.mp4\n",
      "video_link= https://dpplay.zuidajiexi.com/?url=https://mojing.huoyanzuida.com/share/0db2e204010400f5c506620adcd1ae68\n",
      "video_file= 倚天屠龙记(97版)-29.mp4\n",
      "video_link= https://dpplay.zuidajiexi.com/?url=https://mojing.huoyanzuida.com/share/ba0a4d6ecea3e9e126dd3b6d77291c97\n",
      "video_file= 倚天屠龙记(97版)-30.mp4\n",
      "video_link= https://dpplay.zuidajiexi.com/?url=https://mojing.huoyanzuida.com/share/e6be4c22a5963ab00dfe8f3b695b5332\n",
      "video_file= 倚天屠龙记(97版)-31.mp4\n",
      "video_link= https://dpplay.zuidajiexi.com/?url=https://mojing.huoyanzuida.com/share/06358599b7afb2506e063c1ea0a09fbd\n",
      "video_file= 倚天屠龙记(97版)-32.mp4\n",
      "video_link= https://dpplay.zuidajiexi.com/?url=https://mojing.huoyanzuida.com/share/de58bfe3d33dada41a9398c30e21eeed\n",
      "video_file= 倚天屠龙记(97版)-33.mp4\n",
      "video_link= https://dpplay.zuidajiexi.com/?url=https://mojing.huoyanzuida.com/share/f19ec2b84181033bf4753a5a51d5d608\n",
      "video_file= 倚天屠龙记(97版)-34.mp4\n",
      "video_link= https://dpplay.zuidajiexi.com/?url=https://mojing.huoyanzuida.com/share/2172fde49301047270b2897085e4319d\n",
      "video_file= 倚天屠龙记(97版)-35.mp4\n",
      "video_link= https://dpplay.zuidajiexi.com/?url=https://mojing.huoyanzuida.com/share/4a1c2f4dcf2bf76b6b278ae40875d536\n",
      "video_file= 倚天屠龙记(97版)-36.mp4\n",
      "video_link= https://dpplay.zuidajiexi.com/?url=https://mojing.huoyanzuida.com/share/11348e03e23b137d55d94464250a67a2\n",
      "video_file= 倚天屠龙记(97版)-37.mp4\n",
      "video_link= https://dpplay.zuidajiexi.com/?url=https://mojing.huoyanzuida.com/share/8bd2c3f7fd5b165b470beb1cc83071ab\n",
      "video_file= 倚天屠龙记(97版)-38.mp4\n",
      "video_link= https://dpplay.zuidajiexi.com/?url=https://mojing.huoyanzuida.com/share/5e9fb672ee46be628a141b594d7c6f3e\n",
      "video_file= 倚天屠龙记(97版)-39.mp4\n",
      "video_link= https://dpplay.zuidajiexi.com/?url=https://mojing.huoyanzuida.com/share/4d0b954f0bef437c29dfa73fafdf3fa5\n",
      "video_file= 倚天屠龙记(97版)-40.mp4\n",
      "video_link= https://dpplay.zuidajiexi.com/?url=https://mojing.huoyanzuida.com/share/349f36aa789af083b8e26839bd498af9\n",
      "video_file= 倚天屠龙记(97版)-41.mp4\n",
      "video_link= https://dpplay.zuidajiexi.com/?url=https://mojing.huoyanzuida.com/share/555183669058fb273008595a9393d628\n",
      "video_file= 倚天屠龙记(97版)-42.mp4\n"
     ]
    }
   ],
   "source": [
    "for i in range(1,num_episodes+1):\n",
    "    episode_link = ep_link_pattern.format(i)\n",
    "    browser.get(episode_link)\n",
    "    \n",
    "    element = browser.find_element_by_xpath(xpath_m3nu_link)\n",
    "        \n",
    "    video_link = element.get_attribute('src')\n",
    "    print(\"video_link= \" + video_link)\n",
    "    if video_link.startswith(video_link_prefix):\n",
    "        video_link = video_link[len(video_link_prefix):]\n",
    "    \n",
    "    video_file = \"{}-{:02d}.mp4\".format(name_of_show, i)\n",
    "    print(\"video_file= \" + video_file)\n",
    "    ffmpeg_cmd_str = \"ffmpeg -user_agent \\\n",
    "                    \\\"Mozilla/5.0 \\(Macintosh; Intel Mac OS X 10_9_5) \\\n",
    "                    AppleWebKit/601.7.8 (KHTML, like Gecko) \\\n",
    "                    Version/9.1.3 Safari/537.86.7\\\" \\\n",
    "                    -i {} -c copy \\'{}\\'\".format(video_link, video_file)\n",
    "\n",
    "    os.system(ffmpeg_cmd_str)"
   ]
  },
  {
   "cell_type": "code",
   "execution_count": 5,
   "metadata": {},
   "outputs": [
    {
     "data": {
      "text/plain": [
       "'ffmpeg -user_agent                     \"Mozilla/5.0 \\\\(Macintosh; Intel Mac OS X 10_9_5)                     AppleWebKit/601.7.8 (KHTML, like Gecko)                     Version/9.1.3 Safari/537.86.7\"                     -i https://mojing.huoyanzuida.com/20200524/5754_0b871c07/index.m3u8 -c copy \\'test.mp4\\''"
      ]
     },
     "execution_count": 5,
     "metadata": {},
     "output_type": "execute_result"
    }
   ],
   "source": [
    "\"ffmpeg -user_agent \\\n",
    "                    \\\"Mozilla/5.0 \\(Macintosh; Intel Mac OS X 10_9_5) \\\n",
    "                    AppleWebKit/601.7.8 (KHTML, like Gecko) \\\n",
    "                    Version/9.1.3 Safari/537.86.7\\\" \\\n",
    "                    -i {} -c copy \\'{}\\'\".format(\"https://mojing.huoyanzuida.com/20200524/5754_0b871c07/index.m3u8\", \"test.mp4\")"
   ]
  }
 ],
 "metadata": {
  "kernelspec": {
   "display_name": "Python 3",
   "language": "python",
   "name": "python3"
  },
  "language_info": {
   "codemirror_mode": {
    "name": "ipython",
    "version": 3
   },
   "file_extension": ".py",
   "mimetype": "text/x-python",
   "name": "python",
   "nbconvert_exporter": "python",
   "pygments_lexer": "ipython3",
   "version": "3.7.1"
  }
 },
 "nbformat": 4,
 "nbformat_minor": 2
}
