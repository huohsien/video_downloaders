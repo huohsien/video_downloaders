{
 "cells": [
  {
   "cell_type": "markdown",
   "source": [
    "NOT WORKING YET!!!!"
   ],
   "metadata": {}
  },
  {
   "cell_type": "code",
   "execution_count": 1,
   "source": [
    "import requests\n",
    "from lxml import html\n",
    "from urllib.request import urlopen, Request\n",
    "\n",
    "from selenium import webdriver\n",
    "from selenium.webdriver.common.keys import Keys\n",
    "from webdriver_manager.chrome import ChromeDriverManager\n",
    "from selenium.webdriver.chrome.options import Options\n",
    "from selenium.webdriver.support.ui import WebDriverWait\n",
    "from selenium.webdriver.support import expected_conditions as EC\n",
    "from selenium.webdriver.common.by import By\n",
    "from selenium.common.exceptions import TimeoutException\n",
    "\n",
    "from bs4 import BeautifulSoup\n",
    "import re\n",
    "import pandas as pd\n",
    "import os\n",
    "import time\n",
    "from datetime import datetime\n",
    "import threading\n",
    "from datetime import date\n",
    "from apscheduler.schedulers.background import BackgroundScheduler"
   ],
   "outputs": [],
   "metadata": {}
  },
  {
   "cell_type": "code",
   "execution_count": 2,
   "source": [
    "from selenium import webdriver\n",
    "\n",
    "options = webdriver.ChromeOptions() \n",
    "options.add_argument(\"start-maximized\")\n",
    "options.add_experimental_option(\"excludeSwitches\", [\"enable-automation\"])\n",
    "options.add_experimental_option('useAutomationExtension', False)\n",
    "options.add_argument(\"user-data-dir=/Users/huohsien/Library/Application Support/Google/Chrome/Default/\")\n",
    "driver = webdriver.Chrome(ChromeDriverManager().install(), options=options)"
   ],
   "outputs": [
    {
     "output_type": "stream",
     "name": "stderr",
     "text": [
      "[WDM] - Current google-chrome version is 93.0.4577\n",
      "[WDM] - Get LATEST driver version for 93.0.4577\n"
     ]
    },
    {
     "output_type": "stream",
     "name": "stdout",
     "text": [
      " \n"
     ]
    },
    {
     "output_type": "stream",
     "name": "stderr",
     "text": [
      "[WDM] - Get LATEST driver version for 93.0.4577\n",
      "[WDM] - Trying to download new driver from http://chromedriver.storage.googleapis.com/93.0.4577.63/chromedriver_mac64.zip\n",
      "[WDM] - Driver has been saved in cache [/Users/huohsien/.wdm/drivers/chromedriver/mac64/93.0.4577.63]\n"
     ]
    }
   ],
   "metadata": {}
  },
  {
   "cell_type": "code",
   "execution_count": 3,
   "source": [
    "ep = 1\n",
    "search_field = driver.execute_script(\"return document.querySelector('ntp-app').shadowRoot.querySelector('ntp-realbox').shadowRoot.querySelector('input#input')\")\n",
    "search_field.send_keys(\"Hero 律政英雄 第{}集\".format(ep))\n",
    "search_field.send_keys(Keys.ENTER)"
   ],
   "outputs": [],
   "metadata": {}
  },
  {
   "cell_type": "code",
   "execution_count": 4,
   "source": [
    "div = driver.find_element_by_xpath(\"//*[contains(text(), 'HERO(律政英雄) 第1集  影片Dailymotion')]/../../../..\")\n",
    "div.click()"
   ],
   "outputs": [],
   "metadata": {}
  },
  {
   "cell_type": "code",
   "execution_count": null,
   "source": [],
   "outputs": [],
   "metadata": {}
  },
  {
   "cell_type": "code",
   "execution_count": 5,
   "source": [
    "# chrome_options = Options()\n",
    "# chrome_options.add_argument(\"user-data-dir=/Users/huohsien/Library/Application Support/Google/Chrome/Default/\")\n",
    "\n",
    "# # create a new Chrome session\n",
    "\n",
    "# browser = webdriver.Chrome(ChromeDriverManager().install(), options=chrome_options)\n",
    "# browser.implicitly_wait(15)"
   ],
   "outputs": [],
   "metadata": {}
  },
  {
   "cell_type": "code",
   "execution_count": 6,
   "source": [
    "# num_episodes = 45\n",
    "# ep_link_pattern = \"https://www.inmi.tv/vod/play/id/99939/sid/1/nid/{}.html\"\n",
    "# name_of_show = \"天龍八部(97版)\"\n",
    "# xpath_m3u8_link = \"//iframe[@class='fed-play-iframe fed-part-full']\"\n",
    "# video_link_prefix = \"https://zuidajiexi.net/m3u8.html?url=\"\n",
    "# path_to_extension = \"~/Library/Application Support/Google/Chrome/Default/Extensions/epcnnfbjfcgphgdmggkamkmgojdagdnn//0.9.5.25_0\""
   ],
   "outputs": [],
   "metadata": {}
  },
  {
   "cell_type": "code",
   "execution_count": 7,
   "source": [
    "# chrome_options = Options()\n",
    "# chrome_options.add_argument(\"user-data-dir=/Users/huohsien/Library/Application Support/Google/Chrome/Default/\")"
   ],
   "outputs": [],
   "metadata": {}
  },
  {
   "cell_type": "code",
   "execution_count": 8,
   "source": [
    "# # create a new Chrome session\n",
    "\n",
    "# browser = webdriver.Chrome(ChromeDriverManager().install(), options=chrome_options)\n",
    "# browser.implicitly_wait(60)"
   ],
   "outputs": [],
   "metadata": {}
  },
  {
   "cell_type": "code",
   "execution_count": 9,
   "source": [
    "# for i in range(40,num_episodes+1):\n",
    "#     episode_link = ep_link_pattern.format(i)\n",
    "#     browser.get(episode_link)\n",
    "#     print(\"browser get: episode_link= \", episode_link)\n",
    "\n",
    "#     time.sleep(2)\n",
    "    \n",
    "#     element = browser.find_element_by_xpath(xpath_m3u8_link)\n",
    "#     print(\"xpath find: element= {}\".format(element))\n",
    "    \n",
    "#     time.sleep(2)\n",
    "#     video_link = element.get_attribute('src')\n",
    "#     print(\"video_link= \" + video_link)\n",
    "    \n",
    "#     if video_link.startswith(video_link_prefix):\n",
    "#         video_link = video_link[len(video_link_prefix):]\n",
    "    \n",
    "#     video_file = \"{}-{:02d}.mp4\".format(name_of_show, i)\n",
    "#     print(\"video_file= \" + video_file)\n",
    "#     ffmpeg_cmd_str = \"ffmpeg -user_agent \\\n",
    "#                     \\\"Mozilla/5.0 \\(Macintosh; Intel Mac OS X 10_9_5) \\\n",
    "#                     AppleWebKit/601.7.8 (KHTML, like Gecko) \\\n",
    "#                     Version/9.1.3 Safari/537.86.7\\\" \\\n",
    "#                     -i {} -c copy \\'{}\\'\".format(video_link, video_file)\n",
    "#     print(\"ffmpeg_cmd_str= \", ffmpeg_cmd_str)\n",
    "#     os.system(ffmpeg_cmd_str)"
   ],
   "outputs": [],
   "metadata": {}
  },
  {
   "cell_type": "code",
   "execution_count": 10,
   "source": [
    "# \"ffmpeg -user_agent \\\n",
    "#                     \\\"Mozilla/5.0 \\(Macintosh; Intel Mac OS X 10_9_5) \\\n",
    "#                     AppleWebKit/601.7.8 (KHTML, like Gecko) \\\n",
    "#                     Version/9.1.3 Safari/537.86.7\\\" \\\n",
    "#                     -i {} -c copy \\'{}\\'\".format(\"https://mojing.huoyanzuida.com/20200524/5754_0b871c07/index.m3u8\", \"test.mp4\")"
   ],
   "outputs": [],
   "metadata": {}
  }
 ],
 "metadata": {
  "kernelspec": {
   "name": "python3",
   "display_name": "Python 3.7.1 64-bit ('web': conda)"
  },
  "language_info": {
   "codemirror_mode": {
    "name": "ipython",
    "version": 3
   },
   "file_extension": ".py",
   "mimetype": "text/x-python",
   "name": "python",
   "nbconvert_exporter": "python",
   "pygments_lexer": "ipython3",
   "version": "3.7.1"
  },
  "interpreter": {
   "hash": "effc0f63518a5c1560b10975c45bbcceadc577c0194c86222f219f68a81157cb"
  }
 },
 "nbformat": 4,
 "nbformat_minor": 2
}