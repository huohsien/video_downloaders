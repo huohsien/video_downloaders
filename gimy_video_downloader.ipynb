{
 "cells": [
  {
   "cell_type": "code",
   "execution_count": 2,
   "metadata": {},
   "outputs": [
    {
     "name": "stdout",
     "output_type": "stream",
     "text": [
      "# conda environments:\r\n",
      "#\r\n",
      "base                     /Users/huohsien/anaconda2\r\n",
      "PyTorch-YOLOv3           /Users/huohsien/anaconda2/envs/PyTorch-YOLOv3\r\n",
      "ai                       /Users/huohsien/anaconda2/envs/ai\r\n",
      "coreml                   /Users/huohsien/anaconda2/envs/coreml\r\n",
      "deep-learning            /Users/huohsien/anaconda2/envs/deep-learning\r\n",
      "ptc                      /Users/huohsien/anaconda2/envs/ptc\r\n",
      "py2                      /Users/huohsien/anaconda2/envs/py2\r\n",
      "py3                      /Users/huohsien/anaconda2/envs/py3\r\n",
      "style-transfer           /Users/huohsien/anaconda2/envs/style-transfer\r\n",
      "web                   *  /Users/huohsien/anaconda2/envs/web\r\n",
      "\r\n"
     ]
    }
   ],
   "source": [
    "!conda env list"
   ]
  }
 ],
 "metadata": {
  "kernelspec": {
   "display_name": "Python 3",
   "language": "python",
   "name": "python3"
  },
  "language_info": {
   "codemirror_mode": {
    "name": "ipython",
    "version": 3
   },
   "file_extension": ".py",
   "mimetype": "text/x-python",
   "name": "python",
   "nbconvert_exporter": "python",
   "pygments_lexer": "ipython3",
   "version": "3.7.1"
  }
 },
 "nbformat": 4,
 "nbformat_minor": 2
}
