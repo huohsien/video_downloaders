{
 "cells": [
  {
   "cell_type": "code",
   "execution_count": 1,
   "metadata": {},
   "outputs": [],
   "source": [
    "import requests\n",
    "from lxml import html\n",
    "from urllib.request import urlopen, Request\n",
    "\n",
    "from selenium.webdriver.common.by import By\n",
    "from selenium import webdriver\n",
    "\n",
    "from selenium.webdriver.common.keys import Keys\n",
    "# from webdriver_manager.chrome import ChromeDriverManager\n",
    "from bs4 import BeautifulSoup\n",
    "import re\n",
    "import pandas as pd\n",
    "import os\n",
    "import time\n",
    "from datetime import datetime\n",
    "import threading\n",
    "from datetime import date\n",
    "from apscheduler.schedulers.background import BackgroundScheduler"
   ]
  },
  {
   "cell_type": "code",
   "execution_count": null,
   "metadata": {},
   "outputs": [
    {
     "name": "stdout",
     "output_type": "stream",
     "text": [
      "video_file= 天龍八部(82版)-01.mp4\n",
      "video_file= 天龍八部(82版)-02.mp4\n",
      "video_file= 天龍八部(82版)-03.mp4\n",
      "video_file= 天龍八部(82版)-04.mp4\n",
      "video_file= 天龍八部(82版)-05.mp4\n",
      "video_file= 天龍八部(82版)-06.mp4\n",
      "video_file= 天龍八部(82版)-07.mp4\n",
      "video_file= 天龍八部(82版)-08.mp4\n",
      "video_file= 天龍八部(82版)-09.mp4\n",
      "video_file= 天龍八部(82版)-10.mp4\n",
      "video_file= 天龍八部(82版)-11.mp4\n",
      "video_file= 天龍八部(82版)-12.mp4\n",
      "video_file= 天龍八部(82版)-13.mp4\n",
      "video_file= 天龍八部(82版)-14.mp4\n",
      "video_file= 天龍八部(82版)-15.mp4\n",
      "video_file= 天龍八部(82版)-16.mp4\n",
      "video_file= 天龍八部(82版)-17.mp4\n",
      "video_file= 天龍八部(82版)-18.mp4\n",
      "video_file= 天龍八部(82版)-19.mp4\n",
      "video_file= 天龍八部(82版)-20.mp4\n",
      "video_file= 天龍八部(82版)-21.mp4\n",
      "video_file= 天龍八部(82版)-22.mp4\n"
     ]
    }
   ],
   "source": [
    "num_episodes = 50\n",
    "\n",
    "# create a new Firefox session\n",
    "browser = webdriver.Safari()\n",
    "browser.implicitly_wait(30)\n",
    "\n",
    "for i in range(1,num_episodes+1):\n",
    "    episode_link = \"https://gimy.co/eps/40730-1-{}.html\".format(i)\n",
    "    browser.get(episode_link)\n",
    "    element = browser.find_element_by_xpath(\"//video[@class='dplayer-video dplayer-video-current']\")\n",
    "    element.get_attribute('src')\n",
    "    video_link = element.get_attribute('src')\n",
    "    if video_link.startswith('blob:'):\n",
    "        video_link = video_link[5:]\n",
    "    video_file = \"天龍八部(82版)-{:02d}.mp4\".format(i)\n",
    "    print(\"video_file= \" + video_file)\n",
    "    ffmpeg_cmd_str = \"ffmpeg -user_agent \\\n",
    "                    \\\"Mozilla/5.0 \\(Macintosh; Intel Mac OS X 10_9_5) \\\n",
    "                    AppleWebKit/601.7.8 (KHTML, like Gecko) \\\n",
    "                    Version/9.1.3 Safari/537.86.7\\\" \\\n",
    "                    -i {} -c copy \\'{}\\'\".format(video_link, video_file)\n",
    "\n",
    "    os.system(ffmpeg_cmd_str)"
   ]
  },
  {
   "cell_type": "code",
   "execution_count": null,
   "metadata": {},
   "outputs": [],
   "source": [
    "root_link = 'https://gimy.co/eps/40730.html'\n"
   ]
  },
  {
   "cell_type": "code",
   "execution_count": null,
   "metadata": {},
   "outputs": [],
   "source": [
    "# create a new Firefox session\n",
    "browser = webdriver.Safari()\n",
    "browser.implicitly_wait(30)\n",
    "browser.get(episode_link)"
   ]
  },
  {
   "cell_type": "code",
   "execution_count": null,
   "metadata": {},
   "outputs": [],
   "source": [
    "element = browser.find_element_by_xpath(\"//video[@class='dplayer-video dplayer-video-current']\")\n",
    "element.get_attribute('src')"
   ]
  },
  {
   "cell_type": "code",
   "execution_count": null,
   "metadata": {},
   "outputs": [],
   "source": [
    "video_link = element.get_attribute('src')\n",
    "video_file = \"天龍八部(82版)-01.mp4\""
   ]
  },
  {
   "cell_type": "code",
   "execution_count": null,
   "metadata": {},
   "outputs": [],
   "source": [
    "if video_link.startswith('blob:'):\n",
    "    video_link = video_link[5:]"
   ]
  },
  {
   "cell_type": "code",
   "execution_count": null,
   "metadata": {},
   "outputs": [],
   "source": [
    "video_link = 'https://zy.zxziyuan-yun.com/20180304/UlLhKbgB/index.m3u8'"
   ]
  },
  {
   "cell_type": "code",
   "execution_count": null,
   "metadata": {},
   "outputs": [],
   "source": [
    "ffmpeg_cmd_str = \"ffmpeg -user_agent \\\n",
    "                    \\\"Mozilla/5.0 \\(Macintosh; Intel Mac OS X 10_9_5) \\\n",
    "                    AppleWebKit/601.7.8 (KHTML, like Gecko) \\\n",
    "                    Version/9.1.3 Safari/537.86.7\\\" \\\n",
    "                    -i {} -c copy \\'{}\\'\".format(video_link, video_file)\n",
    "import os\n",
    "os.system(ffmpeg_cmd_str)\n",
    "ffmpeg_cmd_str"
   ]
  }
 ],
 "metadata": {
  "kernelspec": {
   "display_name": "Python 3",
   "language": "python",
   "name": "python3"
  },
  "language_info": {
   "codemirror_mode": {
    "name": "ipython",
    "version": 3
   },
   "file_extension": ".py",
   "mimetype": "text/x-python",
   "name": "python",
   "nbconvert_exporter": "python",
   "pygments_lexer": "ipython3",
   "version": "3.7.1"
  }
 },
 "nbformat": 4,
 "nbformat_minor": 2
}
