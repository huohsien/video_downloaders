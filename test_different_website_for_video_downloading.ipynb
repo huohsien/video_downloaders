{
 "cells": [
  {
   "cell_type": "code",
   "execution_count": null,
   "metadata": {},
   "outputs": [],
   "source": [
    "from selenium.webdriver.common.by import By\n",
    "from selenium import webdriver"
   ]
  },
  {
   "cell_type": "code",
   "execution_count": null,
   "metadata": {},
   "outputs": [],
   "source": [
    "episode_link = 'http://www.yueyuju.com/tvb/YiTianTuLongJi78Ban/m3u8-1-1.html'"
   ]
  },
  {
   "cell_type": "code",
   "execution_count": null,
   "metadata": {},
   "outputs": [],
   "source": [
    "# create a new Safari session\n",
    "browser = webdriver.Safari()\n",
    "browser.implicitly_wait(30)\n",
    "browser.get(episode_link)"
   ]
  },
  {
   "cell_type": "code",
   "execution_count": null,
   "metadata": {},
   "outputs": [],
   "source": [
    "element1 = browser.find_element_by_xpath(\"//div[@class='p-vbox']//iframe\")"
   ]
  },
  {
   "cell_type": "code",
   "execution_count": null,
   "metadata": {},
   "outputs": [],
   "source": [
    "video_link = element1.get_attribute('src')\n",
    "video_file = \"天龍八部(82版)-01.mp4\"\n",
    "video_link"
   ]
  },
  {
   "cell_type": "code",
   "execution_count": null,
   "metadata": {},
   "outputs": [],
   "source": [
    "prefix = \"http://dpplay.zuidajiexi.com/?url=\"\n",
    "if video_link.startswith(prefix):\n",
    "    video_link = video_link[len(prefix):]"
   ]
  },
  {
   "cell_type": "code",
   "execution_count": null,
   "metadata": {},
   "outputs": [],
   "source": [
    "video_link"
   ]
  },
  {
   "cell_type": "code",
   "execution_count": null,
   "metadata": {},
   "outputs": [],
   "source": [
    "ffmpeg_cmd_str = \"ffmpeg -user_agent \\\n",
    "                    \\\"Mozilla/5.0 \\(Macintosh; Intel Mac OS X 10_9_5) \\\n",
    "                    AppleWebKit/601.7.8 (KHTML, like Gecko) \\\n",
    "                    Version/9.1.3 Safari/537.86.7\\\" \\\n",
    "                    -i {} -c copy \\'{}\\'\".format(video_link, video_file)\n",
    "import os\n",
    "os.system(ffmpeg_cmd_str)\n",
    "ffmpeg_cmd_str"
   ]
  }
 ],
 "metadata": {
  "kernelspec": {
   "display_name": "Python 3",
   "language": "python",
   "name": "python3"
  },
  "language_info": {
   "codemirror_mode": {
    "name": "ipython",
    "version": 3
   },
   "file_extension": ".py",
   "mimetype": "text/x-python",
   "name": "python",
   "nbconvert_exporter": "python",
   "pygments_lexer": "ipython3",
   "version": "3.7.1"
  }
 },
 "nbformat": 4,
 "nbformat_minor": 2
}
