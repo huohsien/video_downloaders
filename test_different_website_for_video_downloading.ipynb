{
 "cells": [
  {
   "cell_type": "code",
   "execution_count": 1,
   "metadata": {},
   "outputs": [],
   "source": [
    "from selenium.webdriver.common.by import By\n",
    "from selenium import webdriver"
   ]
  },
  {
   "cell_type": "code",
   "execution_count": 2,
   "metadata": {},
   "outputs": [],
   "source": [
    "episode_link = 'https://www.inmi.tv/vod/play/id/99939/sid/1/nid/1.html'"
   ]
  },
  {
   "cell_type": "code",
   "execution_count": 7,
   "metadata": {},
   "outputs": [],
   "source": [
    "# create a new Safari session\n",
    "browser = webdriver.Safari()\n",
    "browser.implicitly_wait(30)\n",
    "browser.get(episode_link)"
   ]
  },
  {
   "cell_type": "code",
   "execution_count": 9,
   "metadata": {},
   "outputs": [],
   "source": [
    "element1 = browser.find_element_by_xpath(\"//iframe[@class='fed-play-iframe fed-part-full']\")"
   ]
  },
  {
   "cell_type": "code",
   "execution_count": 10,
   "metadata": {},
   "outputs": [
    {
     "data": {
      "text/plain": [
       "'https://zuidajiexi.net/m3u8.html?url=https://youku.mhyunbo.com/20191204/wETFHF6B/index.m3u8'"
      ]
     },
     "execution_count": 10,
     "metadata": {},
     "output_type": "execute_result"
    }
   ],
   "source": [
    "video_link = element1.get_attribute('src')\n",
    "video_file = \"倚天屠龙记(97版)-01.mp4\"\n",
    "video_link"
   ]
  },
  {
   "cell_type": "code",
   "execution_count": 11,
   "metadata": {},
   "outputs": [],
   "source": [
    "prefix = \"https://zuidajiexi.net/m3u8.html?url=\"\n",
    "if video_link.startswith(prefix):\n",
    "    video_link = video_link[len(prefix):]"
   ]
  },
  {
   "cell_type": "code",
   "execution_count": 12,
   "metadata": {},
   "outputs": [
    {
     "data": {
      "text/plain": [
       "'https://youku.mhyunbo.com/20191204/wETFHF6B/index.m3u8'"
      ]
     },
     "execution_count": 12,
     "metadata": {},
     "output_type": "execute_result"
    }
   ],
   "source": [
    "video_link"
   ]
  },
  {
   "cell_type": "code",
   "execution_count": 13,
   "metadata": {},
   "outputs": [
    {
     "data": {
      "text/plain": [
       "'ffmpeg -user_agent                     \"Mozilla/5.0 \\\\(Macintosh; Intel Mac OS X 10_9_5)                     AppleWebKit/601.7.8 (KHTML, like Gecko)                     Version/9.1.3 Safari/537.86.7\"                     -i https://youku.mhyunbo.com/20191204/wETFHF6B/index.m3u8 -c copy \\'倚天屠龙记(97版)-01.mp4\\''"
      ]
     },
     "execution_count": 13,
     "metadata": {},
     "output_type": "execute_result"
    }
   ],
   "source": [
    "ffmpeg_cmd_str = \"ffmpeg -user_agent \\\n",
    "                    \\\"Mozilla/5.0 \\(Macintosh; Intel Mac OS X 10_9_5) \\\n",
    "                    AppleWebKit/601.7.8 (KHTML, like Gecko) \\\n",
    "                    Version/9.1.3 Safari/537.86.7\\\" \\\n",
    "                    -i {} -c copy \\'{}\\'\".format(video_link, video_file)\n",
    "import os\n",
    "os.system(ffmpeg_cmd_str)\n",
    "ffmpeg_cmd_str"
   ]
  }
 ],
 "metadata": {
  "kernelspec": {
   "display_name": "Python 3",
   "language": "python",
   "name": "python3"
  },
  "language_info": {
   "codemirror_mode": {
    "name": "ipython",
    "version": 3
   },
   "file_extension": ".py",
   "mimetype": "text/x-python",
   "name": "python",
   "nbconvert_exporter": "python",
   "pygments_lexer": "ipython3",
   "version": "3.7.1"
  }
 },
 "nbformat": 4,
 "nbformat_minor": 2
}
